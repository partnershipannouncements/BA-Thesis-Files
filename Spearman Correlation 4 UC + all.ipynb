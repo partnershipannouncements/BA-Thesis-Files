{
 "cells": [
  {
   "cell_type": "code",
   "execution_count": 2,
   "id": "4cb283db-1efd-4e20-84ad-b1ab73e68074",
   "metadata": {},
   "outputs": [
    {
     "name": "stderr",
     "output_type": "stream",
     "text": [
      "C:\\Users\\einos\\anaconda3\\lib\\site-packages\\pandas\\core\\computation\\expressions.py:21: UserWarning: Pandas requires version '2.8.4' or newer of 'numexpr' (version '2.8.3' currently installed).\n",
      "  from pandas.core.computation.check import NUMEXPR_INSTALLED\n",
      "C:\\Users\\einos\\anaconda3\\lib\\site-packages\\pandas\\core\\arrays\\masked.py:60: UserWarning: Pandas requires version '1.3.6' or newer of 'bottleneck' (version '1.3.5' currently installed).\n",
      "  from pandas.core import (\n"
     ]
    }
   ],
   "source": [
    "import pandas as pd"
   ]
  },
  {
   "cell_type": "markdown",
   "id": "273379d9-9b82-41e6-94ed-1a3ddbcc1ada",
   "metadata": {},
   "source": [
    "#### Load in company-usecase aggregations"
   ]
  },
  {
   "cell_type": "code",
   "execution_count": 4,
   "id": "b0e8aab7-2a67-4442-9899-c16b600cd135",
   "metadata": {},
   "outputs": [],
   "source": [
    "ridepooling = pd.read_csv('C://Users//einos//Documents//Bachelor Arbeit//Wer//Crunchbase//Spearman Correlation//Ridepooling Summary.csv', sep = ';')\n",
    "ridehailing = pd.read_csv('C://Users//einos//Documents//Bachelor Arbeit//Wer//Crunchbase//Spearman Correlation//Ridehailing Summary.csv', sep = ';')\n",
    "trucking = pd.read_csv('C://Users//einos//Documents//Bachelor Arbeit//Wer//Crunchbase//Spearman Correlation//Trucking Summary.csv', sep = ';')\n",
    "lastmile = pd.read_csv('C://Users//einos//Documents//Bachelor Arbeit//Wer//Crunchbase//Spearman Correlation//Last-Mile Summary.csv', sep = ';')\n",
    "all_ = pd.read_csv('C://Users//einos//Documents//Bachelor Arbeit//Wer//Crunchbase//Spearman Correlation//ALL_without_other Summary.csv', sep = ';')"
   ]
  },
  {
   "cell_type": "code",
   "execution_count": 5,
   "id": "f3875ecf-f298-4359-96fd-71011de1f704",
   "metadata": {},
   "outputs": [],
   "source": [
    "from scipy.stats import spearmanr\n",
    "from matplotlib import pyplot"
   ]
  },
  {
   "cell_type": "markdown",
   "id": "7746022f-685e-4fd5-ae15-57181f947ae4",
   "metadata": {},
   "source": [
    "### Save variables for correlation calculation"
   ]
  },
  {
   "cell_type": "code",
   "execution_count": 6,
   "id": "944bcf77-fcf0-4e6f-97de-200eb76d352d",
   "metadata": {},
   "outputs": [],
   "source": [
    "ridepooling_columns = ridepooling.columns\n",
    "ridehailing_columns = ridehailing.columns\n",
    "trucking_columns = trucking.columns\n",
    "lastmile_columns = lastmile.columns"
   ]
  },
  {
   "cell_type": "code",
   "execution_count": 7,
   "id": "f5ce36ed-d096-4afb-8238-13c571b88a67",
   "metadata": {},
   "outputs": [],
   "source": [
    "all_columns = all_.columns"
   ]
  },
  {
   "cell_type": "code",
   "execution_count": 8,
   "id": "ef82eb4b-aef3-4e7b-9049-0eb099d9ac28",
   "metadata": {},
   "outputs": [
    {
     "data": {
      "text/plain": [
       "Index(['Joint D&D', 'Joint Production', 'Joint Service Agreement', 'Other',\n",
       "       'Supply Partnership (extended)', 'Research & Collaboration',\n",
       "       'Licensing', 'Marketing Agreement', 'Supply Partnership (traditional)',\n",
       "       '1. Informal Agreement',\n",
       "       '2.1. Short term Alliance (no exclusivity / previous experience)',\n",
       "       '2.2. Renewed Alliance ', '2.3. Long term Alliance',\n",
       "       '2.4. Exclusive Alliance', '3. Strategic Partnership',\n",
       "       '4. Joint Venture', 'D_L1', 'D_L2', 'D_L3', 'D_L4',\n",
       "       'Total Customer relevant', 'Total Product relevant', 'Total Unserious',\n",
       "       'Equity Partnerships', 'Announcements', '...of which public',\n",
       "       'IPO Status P(Public = 1; Private = 0)', 'Employees (Nominal)',\n",
       "       'Funding (currency adapted) (in millions)'],\n",
       "      dtype='object')"
      ]
     },
     "execution_count": 8,
     "metadata": {},
     "output_type": "execute_result"
    }
   ],
   "source": [
    "all_columns[-29:]"
   ]
  },
  {
   "cell_type": "code",
   "execution_count": 9,
   "id": "21b10ef3-0a57-48f8-b4ef-992fa7b92e5a",
   "metadata": {},
   "outputs": [],
   "source": [
    "correlate_rp = ridepooling[ridepooling_columns[-29:]]\n",
    "correlate_rh = ridehailing[ridehailing_columns[-29:]]\n",
    "correlate_tr = trucking[trucking_columns[-29:]]\n",
    "correlate_lm = lastmile[lastmile_columns[-29:]]"
   ]
  },
  {
   "cell_type": "code",
   "execution_count": 10,
   "id": "d53b8a2a-b914-4788-95ac-10c8084a6f4d",
   "metadata": {},
   "outputs": [],
   "source": [
    "correlate_all = all_[all_columns[-29:]]"
   ]
  },
  {
   "cell_type": "code",
   "execution_count": 34,
   "id": "8d362dcb-3f55-4c95-8948-75bc062bb47c",
   "metadata": {},
   "outputs": [],
   "source": [
    "#conda install -c conda-forge seaborn=0.12.2"
   ]
  },
  {
   "cell_type": "markdown",
   "id": "4237b09e-13c1-486b-a5d2-c1b6e72bec6f",
   "metadata": {},
   "source": [
    "#### Create spearman correlation for ridepooling"
   ]
  },
  {
   "cell_type": "code",
   "execution_count": 11,
   "id": "b30a558f",
   "metadata": {},
   "outputs": [],
   "source": [
    "import pandas as pd\n",
    "import numpy as np\n",
    "from scipy.stats import spearmanr\n",
    "\n",
    "# Assuming your dataset is stored in the variable 'correlate_rp'\n",
    "# Convert the dataset into a pandas DataFrame\n",
    "correlate_rp_df = pd.DataFrame(correlate_rp)\n",
    "\n",
    "# Get the column labels\n",
    "column_labels_rp = correlate_rp_df.columns\n",
    "\n",
    "# Initialize an empty correlation matrix DataFrame\n",
    "correlation_matrix_df_rp = pd.DataFrame(index=column_labels_rp, columns=column_labels_rp)\n",
    "\n",
    "# Initialize an empty p-value matrix DataFrame\n",
    "p_value_matrix_df_rp = pd.DataFrame(index=column_labels_rp, columns=column_labels_rp)\n",
    "\n",
    "# Calculate Spearman correlation coefficient and p-value for each pair of columns\n",
    "for i, col_i in enumerate(column_labels_rp):\n",
    "    for j, col_j in enumerate(column_labels_rp):\n",
    "        # Calculate Spearman correlation coefficient and p-value\n",
    "        spearman_corr, p_value = spearmanr(correlate_rp_df[col_i], correlate_rp_df[col_j])\n",
    "        # Assign the correlation coefficient to the correlation matrix DataFrame\n",
    "        correlation_matrix_df_rp.at[col_i, col_j] = spearman_corr\n",
    "        # Assign the p-value to the p-value matrix DataFrame\n",
    "        p_value_matrix_df_rp.at[col_i, col_j] = p_value\n",
    "        # Set NaN for upper triangle values in both matrices\n",
    "        if i < j:\n",
    "            correlation_matrix_df_rp.at[col_i, col_j] = np.nan\n",
    "            p_value_matrix_df_rp.at[col_i, col_j] = np.nan\n"
   ]
  },
  {
   "cell_type": "markdown",
   "id": "514d12b3-6a65-4929-89c1-0629f2657512",
   "metadata": {},
   "source": [
    "#### Create spearman correlation for ridehailing"
   ]
  },
  {
   "cell_type": "code",
   "execution_count": 12,
   "id": "83670dfb-8fb2-4488-9692-622802f1a527",
   "metadata": {},
   "outputs": [
    {
     "name": "stderr",
     "output_type": "stream",
     "text": [
      "C:\\Users\\einos\\anaconda3\\lib\\site-packages\\scipy\\stats\\_stats_py.py:5445: ConstantInputWarning: An input array is constant; the correlation coefficient is not defined.\n",
      "  warnings.warn(stats.ConstantInputWarning(warn_msg))\n"
     ]
    }
   ],
   "source": [
    "import pandas as pd\n",
    "import numpy as np\n",
    "from scipy.stats import spearmanr\n",
    "\n",
    "# Assuming your dataset is stored in the variable 'correlate_rp'\n",
    "# Convert the dataset into a pandas DataFrame\n",
    "correlate_rh_df = pd.DataFrame(correlate_rh)\n",
    "\n",
    "# Get the column labels\n",
    "column_labels_rh = correlate_rh_df.columns\n",
    "\n",
    "# Initialize an empty correlation matrix DataFrame\n",
    "correlation_matrix_df_rh = pd.DataFrame(index=column_labels_rh, columns=column_labels_rh)\n",
    "p_value_matrix_df_rh = pd.DataFrame(index=column_labels_rh, columns=column_labels_rh)        \n",
    "\n",
    "# Calculate Spearman correlation coefficient and p-value for each pair of columns\n",
    "for i, col_i in enumerate(column_labels_rh):\n",
    "    for j, col_j in enumerate(column_labels_rh):\n",
    "        # Calculate Spearman correlation coefficient and p-value\n",
    "        spearman_corr, p_value = spearmanr(correlate_rh_df[col_i], correlate_rh_df[col_j])\n",
    "        # Store the correlation coefficient in the correlation matrix DataFrame\n",
    "        correlation_matrix_df_rh.at[col_i, col_j] = spearman_corr\n",
    "        # Store the p-value in the p-value matrix DataFrame\n",
    "        p_value_matrix_df_rh.at[col_i, col_j] = p_value\n",
    "        if i < j:\n",
    "            correlation_matrix_df_rh.at[col_i, col_j] = np.nan\n",
    "            p_value_matrix_df_rh.at[col_i, col_j] = np.nan\n"
   ]
  },
  {
   "cell_type": "markdown",
   "id": "8f45601f-277e-4aec-ac1e-0a7ffa1e9088",
   "metadata": {},
   "source": [
    "#### Create spearman correlation for trucking"
   ]
  },
  {
   "cell_type": "code",
   "execution_count": 13,
   "id": "838b317b-fb90-45c2-8845-45dee4077e26",
   "metadata": {},
   "outputs": [
    {
     "name": "stderr",
     "output_type": "stream",
     "text": [
      "C:\\Users\\einos\\anaconda3\\lib\\site-packages\\scipy\\stats\\_stats_py.py:5445: ConstantInputWarning: An input array is constant; the correlation coefficient is not defined.\n",
      "  warnings.warn(stats.ConstantInputWarning(warn_msg))\n"
     ]
    }
   ],
   "source": [
    "import pandas as pd\n",
    "import numpy as np\n",
    "from scipy.stats import spearmanr\n",
    "\n",
    "# Assuming your dataset is stored in the variable 'correlate_rp'\n",
    "# Convert the dataset into a pandas DataFrame\n",
    "correlate_tr_df = pd.DataFrame(correlate_tr)\n",
    "\n",
    "# Get the column labels\n",
    "column_labels_tr = correlate_tr_df.columns\n",
    "\n",
    "# Initialize an empty correlation matrix DataFrame\n",
    "correlation_matrix_df_tr = pd.DataFrame(index=column_labels_tr, columns=column_labels_tr)\n",
    "p_value_matrix_df_tr = pd.DataFrame(index=column_labels_tr, columns=column_labels_tr)        \n",
    "\n",
    "# Calculate Spearman correlation coefficient and p-value for each pair of columns\n",
    "for i, col_i in enumerate(column_labels_tr):\n",
    "    for j, col_j in enumerate(column_labels_tr):\n",
    "        # Calculate Spearman correlation coefficient and p-value\n",
    "        spearman_corr, p_value = spearmanr(correlate_tr_df[col_i], correlate_tr_df[col_j])\n",
    "        # Store the correlation coefficient in the correlation matrix DataFrame\n",
    "        correlation_matrix_df_tr.at[col_i, col_j] = spearman_corr\n",
    "        # Store the p-value in the p-value matrix DataFrame\n",
    "        p_value_matrix_df_tr.at[col_i, col_j] = p_value\n",
    "        if i < j:\n",
    "            correlation_matrix_df_tr.at[col_i, col_j] = np.nan\n",
    "            p_value_matrix_df_tr.at[col_i, col_j] = np.nan\n"
   ]
  },
  {
   "cell_type": "markdown",
   "id": "12275348-f6d2-4924-90e7-1a10ad9ed654",
   "metadata": {},
   "source": [
    "#### Create spearman correlation for last-mile"
   ]
  },
  {
   "cell_type": "code",
   "execution_count": 14,
   "id": "437e1121-e285-4f24-9cbf-f8ab38624c6d",
   "metadata": {
    "tags": []
   },
   "outputs": [
    {
     "name": "stderr",
     "output_type": "stream",
     "text": [
      "C:\\Users\\einos\\anaconda3\\lib\\site-packages\\scipy\\stats\\_stats_py.py:5445: ConstantInputWarning: An input array is constant; the correlation coefficient is not defined.\n",
      "  warnings.warn(stats.ConstantInputWarning(warn_msg))\n"
     ]
    }
   ],
   "source": [
    "import pandas as pd\n",
    "import numpy as np\n",
    "from scipy.stats import spearmanr\n",
    "\n",
    "# Assuming your dataset is stored in the variable 'correlate_rp'\n",
    "# Convert the dataset into a pandas DataFrame\n",
    "correlate_lm_df = pd.DataFrame(correlate_lm)\n",
    "\n",
    "# Get the column labels\n",
    "column_labels_lm = correlate_tr_df.columns\n",
    "\n",
    "# Initialize an empty correlation matrix DataFrame\n",
    "correlation_matrix_df_lm = pd.DataFrame(index=column_labels_lm, columns=column_labels_lm)\n",
    "p_value_matrix_df_lm = pd.DataFrame(index=column_labels_lm, columns=column_labels_lm)        \n",
    "\n",
    "# Calculate Spearman correlation coefficient and p-value for each pair of columns\n",
    "for i, col_i in enumerate(column_labels_lm):\n",
    "    for j, col_j in enumerate(column_labels_lm):\n",
    "        # Calculate Spearman correlation coefficient and p-value\n",
    "        spearman_corr, p_value = spearmanr(correlate_lm_df[col_i], correlate_lm_df[col_j])\n",
    "        # Store the correlation coefficient in the correlation matrix DataFrame\n",
    "        correlation_matrix_df_lm.at[col_i, col_j] = spearman_corr\n",
    "        # Store the p-value in the p-value matrix DataFrame\n",
    "        p_value_matrix_df_lm.at[col_i, col_j] = p_value\n",
    "        if i < j:\n",
    "            correlation_matrix_df_lm.at[col_i, col_j] = np.nan\n",
    "            p_value_matrix_df_lm.at[col_i, col_j] = np.nan\n"
   ]
  },
  {
   "cell_type": "code",
   "execution_count": 15,
   "id": "ebcd0db3-9e2b-4c6e-b125-5ed6cc2c70e5",
   "metadata": {},
   "outputs": [],
   "source": [
    "import pandas as pd\n",
    "import numpy as np\n",
    "from scipy.stats import spearmanr\n",
    "\n",
    "# Assuming your dataset is stored in the variable 'correlate_rp'\n",
    "# Convert the dataset into a pandas DataFrame\n",
    "correlate_all_df = pd.DataFrame(correlate_all)\n",
    "\n",
    "# Get the column labels\n",
    "column_labels_all = correlate_all_df.columns\n",
    "\n",
    "# Initialize an empty correlation matrix DataFrame\n",
    "correlatation_matrix_df_all = pd.DataFrame(index=column_labels_all, columns=column_labels_all)\n",
    "p_value_matrix_df_all = pd.DataFrame(index=column_labels_all, columns=column_labels_all)        \n",
    "\n",
    "# Calculate Spearman correlation coefficient and p-value for each pair of columns\n",
    "for i, col_i in enumerate(column_labels_all):\n",
    "    for j, col_j in enumerate(column_labels_all):\n",
    "        # Calculate Spearman correlation coefficient and p-value\n",
    "        spearman_corr, p_value = spearmanr(correlate_all_df[col_i], correlate_all_df[col_j])\n",
    "        # Store the correlation coefficient in the correlation matrix DataFrame\n",
    "        correlatation_matrix_df_all.at[col_i, col_j] = spearman_corr\n",
    "        # Store the p-value in the p-value matrix DataFrame\n",
    "        p_value_matrix_df_all.at[col_i, col_j] = p_value\n",
    "        if i < j:\n",
    "            correlatation_matrix_df_all.at[col_i, col_j] = np.nan\n",
    "            p_value_matrix_df_all.at[col_i, col_j] = np.nan\n"
   ]
  },
  {
   "cell_type": "markdown",
   "id": "5fa031d3-70de-4294-bf88-e158ce5aa72a",
   "metadata": {},
   "source": [
    "#### save variables"
   ]
  },
  {
   "cell_type": "code",
   "execution_count": 16,
   "id": "1d6b0db5-e7d4-4237-8cbc-5e1307f9963b",
   "metadata": {},
   "outputs": [],
   "source": [
    "correlation_matrix_df_rp.to_csv('correlation_matrix_df_rp3.csv',sep = ';')\n",
    "p_value_matrix_df_rp.to_csv('p_value_matrix_df_rp3.csv',sep = ';')\n",
    "\n",
    "correlation_matrix_df_rh.to_csv('correlation_matrix_df_rh3.csv',sep = ';')\n",
    "p_value_matrix_df_rh.to_csv('p_value_matrix_df_rh3.csv',sep = ';')\n",
    "\n",
    "correlation_matrix_df_tr.to_csv('correlation_matrix_df_tr3.csv',sep = ';')\n",
    "p_value_matrix_df_tr.to_csv('p_value_matrix_df_tr3.csv',sep = ';')\n",
    "\n",
    "correlation_matrix_df_lm.to_csv('correlation_matrix_df_lm3.csv',sep = ';')\n",
    "p_value_matrix_df_lm.to_csv('p_value_matrix_df_lm3.csv',sep = ';')"
   ]
  },
  {
   "cell_type": "code",
   "execution_count": 17,
   "id": "3a1e8a76-6f89-4d44-a110-a6f0c27bfc94",
   "metadata": {},
   "outputs": [],
   "source": [
    "correlatation_matrix_df_all.to_csv('correlation_matrix_df_all.csv',sep = ';')\n",
    "p_value_matrix_df_all.to_csv('p_value_matrix_df_all.csv',sep = ';')"
   ]
  }
 ],
 "metadata": {
  "kernelspec": {
   "display_name": "Python 3 (ipykernel)",
   "language": "python",
   "name": "python3"
  },
  "language_info": {
   "codemirror_mode": {
    "name": "ipython",
    "version": 3
   },
   "file_extension": ".py",
   "mimetype": "text/x-python",
   "name": "python",
   "nbconvert_exporter": "python",
   "pygments_lexer": "ipython3",
   "version": "3.9.18"
  }
 },
 "nbformat": 4,
 "nbformat_minor": 5
}
